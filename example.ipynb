{
 "cells": [
  {
   "cell_type": "code",
   "execution_count": 1,
   "metadata": {},
   "outputs": [],
   "source": [
    "from pathlib import Path\n",
    "import pdfmb"
   ]
  },
  {
   "cell_type": "code",
   "execution_count": 2,
   "metadata": {},
   "outputs": [],
   "source": [
    "pdfmb.merge(\n",
    "    pdfs_to_merge=Path(\"example pdfs\").rglob(\"*.pdf\"),  # filter of combine different sources\n",
    "    output_folder=Path(\"output\"),\n",
    ")\n"
   ]
  },
  {
   "cell_type": "code",
   "execution_count": 3,
   "metadata": {},
   "outputs": [],
   "source": [
    "pdfmb.add(\n",
    "    pdfs_to_add=Path(\"example pdfs\").rglob(\"*.pdf\"),  # filter of combine different sources\n",
    "    existing_pdf=Path(\"example pdfs/root1.pdf\"),\n",
    ")\n"
   ]
  },
  {
   "cell_type": "code",
   "execution_count": 4,
   "metadata": {},
   "outputs": [],
   "source": [
    "pdfmb.merge_from_folder(\n",
    "    source_folder=Path(\"example pdfs\"),\n",
    "    output_folder=Path(\"output\"),\n",
    "    add_flat_hierachy=True,\n",
    ")\n"
   ]
  },
  {
   "cell_type": "code",
   "execution_count": 5,
   "metadata": {},
   "outputs": [],
   "source": [
    "pdfmb.add_from_folder(\n",
    "    source_folder=Path(\"example pdfs\"),\n",
    "    existing_pdf=Path(\"example pdfs/root1.pdf\"),\n",
    "    add_flat_hierachy=True,\n",
    ")\n"
   ]
  }
 ],
 "metadata": {
  "interpreter": {
   "hash": "f88973b7f7583cc186ec1b7437c60a30bdef93197062d770e2b3bff50466fd1d"
  },
  "kernelspec": {
   "display_name": "Python 3.10.2 ('venv': venv)",
   "language": "python",
   "name": "python3"
  },
  "language_info": {
   "codemirror_mode": {
    "name": "ipython",
    "version": 3
   },
   "file_extension": ".py",
   "mimetype": "text/x-python",
   "name": "python",
   "nbconvert_exporter": "python",
   "pygments_lexer": "ipython3",
   "version": "3.10.2"
  },
  "orig_nbformat": 4
 },
 "nbformat": 4,
 "nbformat_minor": 2
}
