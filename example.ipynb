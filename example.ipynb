{
 "cells": [
  {
   "cell_type": "code",
   "execution_count": 1,
   "metadata": {},
   "outputs": [],
   "source": [
    "from pathlib import Path\n",
    "import pdfmb"
   ]
  },
  {
   "cell_type": "code",
   "execution_count": 2,
   "metadata": {},
   "outputs": [],
   "source": [
    "pdfmb.merge(\n",
    "    pdfs_to_merge=Path(\"example pdfs\").rglob(\"*.pdf\"),  # filter of combine different sources\n",
    "    output_folder=Path(\"output\"),\n",
    ")\n"
   ]
  },
  {
   "cell_type": "code",
   "execution_count": 3,
   "metadata": {},
   "outputs": [],
   "source": [
    "pdfmb.add(\n",
    "    pdfs_to_add=Path(\"example pdfs\").rglob(\"*.pdf\"),  # filter of combine different sources\n",
    "    existing_pdf=Path(\"example pdfs/root1.pdf\"),\n",
    ")\n"
   ]
  },
  {
   "cell_type": "code",
   "execution_count": 4,
   "metadata": {},
   "outputs": [],
   "source": [
    "pdfmb.merge_from_folder(\n",
    "    source_folder=Path(\"example pdfs\"),\n",
    "    output_folder=Path(\"output\"),\n",
    "    add_flat_hierachy=True,\n",
    ")\n"
   ]
  },
  {
   "cell_type": "code",
   "execution_count": 5,
   "metadata": {},
   "outputs": [],
   "source": [
    "pdfmb.add_from_folder(\n",
    "    source_folder=Path(\"example pdfs\"),\n",
    "    existing_pdf=Path(\"example pdfs/root1.pdf\"),\n",
    "    add_flat_hierachy=True,\n",
    ")\n"
   ]
  },
  {
   "cell_type": "code",
   "execution_count": 4,
   "metadata": {},
   "outputs": [
    {
     "data": {
      "text/plain": [
       "<bound method Pdf.close of <pikepdf.Pdf description='empty PDF'>>"
      ]
     },
     "execution_count": 4,
     "metadata": {},
     "output_type": "execute_result"
    }
   ],
   "source": [
    "from pathlib import Path\n",
    "from pikepdf import Pdf, OutlineItem\n",
    "\n",
    "source_folder = Path(\"example pdfs\")\n",
    "\n",
    "dirs = {}\n",
    "\n",
    "pdfs = sorted(source_folder.rglob(\"*.pdf\"))\n",
    "\n",
    "for pdf in pdfs:\n",
    "    for d in pdf.parents:\n",
    "        if d not in dirs and str(d) != str(\".\"):\n",
    "            dirs[d] = OutlineItem(d.name, 0)\n",
    "\n",
    "p = Pdf.new()\n",
    "p.add_blank_page()\n",
    "page_count = len(p.pages)\n",
    "\n",
    "with p.open_outline() as outline:\n",
    "    outline.root.append(dirs[source_folder])\n",
    "\n",
    "    for file in pdfs:\n",
    "        src = Pdf.open(file)\n",
    "        pages = len(src.pages)\n",
    "\n",
    "        ol_file = OutlineItem(file.name, page_count)\n",
    "\n",
    "        dirs[file.parent].children.append(ol_file)\n",
    "\n",
    "        if pages > 1:\n",
    "            for page in range(pages):\n",
    "                ol_file.children.append(\n",
    "                    OutlineItem(f\"Page {page+1}\", page_count + page)\n",
    "                )\n",
    "\n",
    "        page_count += pages\n",
    "        p.pages.extend(src.pages)\n",
    "\n",
    "    for d in dirs:\n",
    "        if d.parent in dirs:\n",
    "            dirs[d.parent].children.append(dirs[d])\n",
    "\n",
    "\n",
    "p.save(\"filename.pdf\")\n",
    "p.close"
   ]
  },
  {
   "cell_type": "code",
   "execution_count": null,
   "metadata": {},
   "outputs": [],
   "source": []
  }
 ],
 "metadata": {
  "interpreter": {
   "hash": "f88973b7f7583cc186ec1b7437c60a30bdef93197062d770e2b3bff50466fd1d"
  },
  "kernelspec": {
   "display_name": "Python 3.10.2 ('venv': venv)",
   "language": "python",
   "name": "python3"
  },
  "language_info": {
   "codemirror_mode": {
    "name": "ipython",
    "version": 3
   },
   "file_extension": ".py",
   "mimetype": "text/x-python",
   "name": "python",
   "nbconvert_exporter": "python",
   "pygments_lexer": "ipython3",
   "version": "3.10.2"
  },
  "orig_nbformat": 4
 },
 "nbformat": 4,
 "nbformat_minor": 2
}
